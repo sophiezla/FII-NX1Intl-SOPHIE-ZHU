{
  "nbformat": 4,
  "nbformat_minor": 0,
  "metadata": {
    "colab": {
      "provenance": [],
      "authorship_tag": "ABX9TyOvc4miLbBiyCTq0uBEvbvf",
      "include_colab_link": true
    },
    "kernelspec": {
      "name": "python3",
      "display_name": "Python 3"
    },
    "language_info": {
      "name": "python"
    }
  },
  "cells": [
    {
      "cell_type": "markdown",
      "metadata": {
        "id": "view-in-github",
        "colab_type": "text"
      },
      "source": [
        "<a href=\"https://colab.research.google.com/github/sophiezla/FII-NX1Intl-SOPHIE-ZHU/blob/main/counterfeit_drug_ai.ipynb\" target=\"_parent\"><img src=\"https://colab.research.google.com/assets/colab-badge.svg\" alt=\"Open In Colab\"/></a>"
      ]
    },
    {
      "cell_type": "markdown",
      "source": [
        "Counterfeit drugs and flaseified medicines create a huge risk towards public health. Drug counterfeiting has increased greatly in recent years and have made their way into the legal markets.\n",
        "They can be extremely harmful if taken- from contamination to under/over dosage which makes identifying and eliminating these drugs so important.\n",
        "https://www.clientpharma.com/the-importance-of-detecting-counterfeit-medicines/\n",
        "\n",
        "A very good resource right now : https://www.whpa.org/sites/default/files/2018-12/Toolkit_BeAware_Background.pdf"
      ],
      "metadata": {
        "id": "2ZM9x29dLGNe"
      }
    },
    {
      "cell_type": "markdown",
      "source": [],
      "metadata": {
        "id": "AIHeKh_SO4RN"
      }
    },
    {
      "cell_type": "code",
      "execution_count": null,
      "metadata": {
        "id": "E3Pls2yqLE92"
      },
      "outputs": [],
      "source": []
    }
  ]
}